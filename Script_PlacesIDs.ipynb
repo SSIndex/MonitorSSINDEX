{
 "cells": [
  {
   "cell_type": "code",
   "execution_count": 11,
   "id": "aa565b0e-13e0-4654-a72c-02e922494e2a",
   "metadata": {
    "tags": []
   },
   "outputs": [
    {
     "name": "stdout",
     "output_type": "stream",
     "text": [
      "                       place_id                    name  \\\n",
      "0   ChIJD8sYHf8tDogRhMuHLunB_Yg  Fifth Third Bank & ATM   \n",
      "1   ChIJp60-HsEtDogRAopEEKqy6kM  Fifth Third Bank & ATM   \n",
      "2   ChIJy5Lcx5csDogRtMJNVD0ohaU  Fifth Third Bank & ATM   \n",
      "3   ChIJQZGn2m0pDogRBbhL5QJFKsw  Fifth Third Bank & ATM   \n",
      "4   ChIJQ1g6mqUsDogR0kYF1Xfzf8I  Fifth Third Bank & ATM   \n",
      "5   ChIJfTZ6SUQyDogRRcWlpNi7TT4  Fifth Third Bank & ATM   \n",
      "6   ChIJAcm8_LYsDogRamcGmMJh7zo  Fifth Third Bank & ATM   \n",
      "7   ChIJvyco3t0tDogRa4NX0mQP-4c  Fifth Third Bank & ATM   \n",
      "8   ChIJ146-TRktDogR9sydijcnsXM  Fifth Third Bank & ATM   \n",
      "9   ChIJyU6JGdvTD4gRFtaO_-msJ94  Fifth Third Bank & ATM   \n",
      "10  ChIJEwoKHb8sDogRg3AuuYmjV1A  Fifth Third Bank & ATM   \n",
      "11  ChIJQ9iniLosDogRDcG-yw41sxE  Fifth Third Bank & ATM   \n",
      "12  ChIJHzEHXr0tDogRF4GG63QyYP0  Fifth Third Bank & ATM   \n",
      "13  ChIJ_6ZQul0tDogRCgXY5BKK3kw  Fifth Third Bank & ATM   \n",
      "14  ChIJYaHLwnuyQYgRtiSN64SqmWI  Fifth Third Bank & ATM   \n",
      "15  ChIJM-jqCoUtDogRFB8AoEt98uc  Fifth Third Bank & ATM   \n",
      "16  ChIJFf65ZiPTD4gRs2IyScc3EGQ  Fifth Third Bank & ATM   \n",
      "17  ChIJs2O6i7rTD4gRss-Est1nw28  Fifth Third Bank & ATM   \n",
      "18  ChIJxdW9yHQnDogRTMH_dP6mQM0  Fifth Third Bank & ATM   \n",
      "19  ChIJ7WsUyKnTD4gRyeZoYJ2ufvI  Fifth Third Bank & ATM   \n",
      "\n",
      "                                              address  \n",
      "0    1625 W 18th St, Chicago, IL 60608, United States  \n",
      "1    1950 W 33rd St, Chicago, IL 60608, United States  \n",
      "2    601 S Clark St, Chicago, IL 60605, United States  \n",
      "3    1420 E 53rd St, Chicago, IL 60615, United States  \n",
      "4   57 E Randolph St, Chicago, IL 60602, United St...  \n",
      "5    3957 W 26th St, Chicago, IL 60623, United States  \n",
      "6   222 S Riverside Plaza, Chicago, IL 60606, Unit...  \n",
      "7   800 W Madison St, Chicago, IL 60607, United St...  \n",
      "8   2 S La Salle St, Chicago, IL 60603, United States  \n",
      "9   4800 N Western Ave, Chicago, IL 60625, United ...  \n",
      "10  244 S Franklin St Suite L1-21, Chicago, IL 606...  \n",
      "11   161 N Clark St, Chicago, IL 60601, United States  \n",
      "12  820 N Western Ave, Chicago, IL 60622, United S...  \n",
      "13    1 S Wacker Dr, Chicago, IL 60606, United States  \n",
      "14  2632 Erie Ave, Cincinnati, OH 45208, United St...  \n",
      "15    33 W Huron St, Chicago, IL 60654, United States  \n",
      "16  837 W North Ave, Chicago, IL 60642, United States  \n",
      "17  3601 N Broadway, Chicago, IL 60613, United States  \n",
      "18   3030 E 92nd St, Chicago, IL 60617, United States  \n",
      "19  3959 N Lincoln Ave, Chicago, IL 60613, United ...  \n",
      "Archivo 'Fifth_Third_Bank_EEUU_places.csv' creado exitosamente.\n"
     ]
    }
   ],
   "source": [
    "import requests\n",
    "import pandas as pd\n",
    "import os\n",
    "api_key = os.getenv(\"api_key_google\")\n",
    "chain_name = 'Fifth Third Bank'  # Reemplaza con el nombre de la cadena de tiendas\n",
    "state_name = 'Connecticut'  # Reemplaza con el nombre del estado\n",
    "country = 'EEUU'  # Especificar el país\n",
    "\n",
    "# Realiza la búsqueda\n",
    "url = f\"https://maps.googleapis.com/maps/api/place/textsearch/json?query={chain_name}+in+{state_name}+{country}&key={api_key}\"\n",
    "response = requests.get(url)\n",
    "results = response.json().get('results', [])\n",
    "\n",
    "# Recopila los Place IDs y otros datos de interés (si se desea)\n",
    "data = []\n",
    "for place in results:\n",
    "    place_data = {\n",
    "        'place_id': place['place_id'],\n",
    "        'name': place.get('name'),\n",
    "        'address': place.get('formatted_address')\n",
    "    }\n",
    "    data.append(place_data)\n",
    "\n",
    "# Crea un DataFrame con los resultados\n",
    "df = pd.DataFrame(data)\n",
    "\n",
    "# Muestra el DataFrame\n",
    "print(df)\n",
    "\n",
    "# Guarda el DataFrame en un archivo CSV\n",
    "csv_filename = f\"{chain_name.replace(' ', '_')}_{state_name.replace(' ', '_')}_places.csv\"\n",
    "df.to_csv(csv_filename, index=False)\n",
    "print(f\"Archivo '{csv_filename}' creado exitosamente.\")"
   ]
  },
  {
   "cell_type": "code",
   "execution_count": null,
   "id": "fdb0946b-103f-41fa-a77c-a0a9eafd48ac",
   "metadata": {},
   "outputs": [],
   "source": []
  }
 ],
 "metadata": {
  "environment": {
   "kernel": "python3",
   "name": "common-cpu.m119",
   "type": "gcloud",
   "uri": "us-docker.pkg.dev/deeplearning-platform-release/gcr.io/base-cpu:m119"
  },
  "kernelspec": {
   "display_name": "Python 3 (ipykernel)",
   "language": "python",
   "name": "python3"
  },
  "language_info": {
   "codemirror_mode": {
    "name": "ipython",
    "version": 3
   },
   "file_extension": ".py",
   "mimetype": "text/x-python",
   "name": "python",
   "nbconvert_exporter": "python",
   "pygments_lexer": "ipython3",
   "version": "3.10.14"
  }
 },
 "nbformat": 4,
 "nbformat_minor": 5
}
