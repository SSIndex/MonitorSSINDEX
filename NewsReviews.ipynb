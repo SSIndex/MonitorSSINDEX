{
 "cells": [
  {
   "cell_type": "code",
   "execution_count": 20,
   "id": "894626cb-3027-40d4-b8e6-11d3bb3e6247",
   "metadata": {},
   "outputs": [],
   "source": [
    "import requests\n",
    "import pandas as pd\n",
    "import time\n",
    "import os"
   ]
  },
  {
   "cell_type": "code",
   "execution_count": 21,
   "id": "aadb83df-cbd3-4074-9127-24ca5b67d59d",
   "metadata": {
    "tags": []
   },
   "outputs": [],
   "source": [
    "# Oauth authentication with user credentials\n",
    "username = os.getenv(\"username\"),\n",
    "password = os.getenv(\"password \"),\n",
    "App_ID = os.getenv(\"App_ID\"),\n",
    "\n",
    "# Requesting a bearer token from oauth endpoint\n",
    "token_response = requests.post(\n",
    "    \"https://api.aylien.com/v1/oauth/token\",\n",
    "    auth=(username, password),\n",
    "    data={\"grant_type\": \"password\"}\n",
    ")\n",
    "token = token_response.json()[\"access_token\"]\n",
    "\n",
    "# Passing the token as a header with App Id\n",
    "headers = {\"Authorization\": \"Bearer {}\".format(token), \"AppId\": App_ID}"
   ]
  },
  {
   "cell_type": "code",
   "execution_count": 58,
   "id": "3bbf8eed-fff0-4e3e-9b8e-8bcb53d69cd9",
   "metadata": {
    "tags": []
   },
   "outputs": [],
   "source": [
    "# Función para buscar noticias de un banco específico y guardar en un CSV\n",
    "def fetch_and_save_news(bank_name):\n",
    "    url = f'https://api.aylien.com/v6/news/stories?aql=language:(en) AND text: (NOT \"quarterly report\") AND entities:({{{{surface_forms.text:\"{bank_name}\" AND overall_prominence:>=0.65}}}}) AND sentiment.title.polarity:(negative neutral positive)&cursor=*&published_at.end=NOW&published_at.start=2021-01-11T00:00:00.000Z'\n",
    "    response = requests.get(url, headers=headers)\n",
    "    news_data = response.json()\n",
    "    stories = news_data.get('stories', [])\n",
    "    df = pd.DataFrame(stories)\n",
    "\n",
    "    # Nombre del archivo CSV basado en el nombre del banco\n",
    "    csv_filename = f'{bank_name.replace(\" \", \"_\")}_news.csv'\n",
    "\n",
    "    # Guardar el DataFrame en un archivo CSV\n",
    "    df.to_csv(csv_filename, index=False)\n",
    "    print(f'Datos guardados para {bank_name} en {csv_filename}')\n"
   ]
  },
  {
   "cell_type": "code",
   "execution_count": 59,
   "id": "c13a4256-b9a1-491d-9d0d-99a78ffecdad",
   "metadata": {
    "tags": []
   },
   "outputs": [
    {
     "name": "stdout",
     "output_type": "stream",
     "text": [
      "Datos guardados para Bankwell Bank en Bankwell_Bank_news.csv\n",
      "Datos guardados para Chelsea Gronto Bank en Chelsea_Gronto_Bank_news.csv\n",
      "Datos guardados para Dime Bank en Dime_Bank_news.csv\n",
      "Datos guardados para Essex Savings Bank en Essex_Savings_Bank_news.csv\n",
      "Datos guardados para Fairfield County Bank en Fairfield_County_Bank_news.csv\n",
      "Datos guardados para First Bank of Greenwich en First_Bank_of_Greenwich_news.csv\n",
      "Datos guardados para First County Bank en First_County_Bank_news.csv\n",
      "Datos guardados para Guilford Savings Bank en Guilford_Savings_Bank_news.csv\n",
      "Datos guardados para Ion Bank en Ion_Bank_news.csv\n",
      "Datos guardados para Jewett City Savings Bank en Jewett_City_Savings_Bank_news.csv\n",
      "Datos guardados para Liberty Bank en Liberty_Bank_news.csv\n",
      "Datos guardados para Milford Bank en Milford_Bank_news.csv\n",
      "Datos guardados para Newtown Savings Bank en Newtown_Savings_Bank_news.csv\n",
      "Datos guardados para Northwest Community Bank en Northwest_Community_Bank_news.csv\n",
      "Datos guardados para Savings Bank of Danbury en Savings_Bank_of_Danbury_news.csv\n",
      "Datos guardados para Stafford Savings Bank en Stafford_Savings_Bank_news.csv\n",
      "Datos guardados para Thomaston Savings Bank en Thomaston_Savings_Bank_news.csv\n",
      "Datos guardados para Torrington Savings Bank en Torrington_Savings_Bank_news.csv\n",
      "Datos guardados para Union Savings Bank en Union_Savings_Bank_news.csv\n",
      "Datos guardados para M&T Bank en M&T_Bank_news.csv\n",
      "Datos guardados para Citizens Bank en Citizens_Bank_news.csv\n",
      "Datos guardados para Fifth Third Bank en Fifth_Third_Bank_news.csv\n",
      "Datos guardados para FirstHorizonBank en FirstHorizonBank_news.csv\n",
      "Datos guardados para FifthThirdBank en FifthThirdBank_news.csv\n",
      "Datos guardados para citizensbank en citizensbank_news.csv\n",
      "Datos guardados para MandTBank en MandTBank_news.csv\n"
     ]
    }
   ],
   "source": [
    "# Lista de bancos a buscar\n",
    "banks_list = [\n",
    "    \"Bankwell Bank\",\n",
    "    \"Chelsea Gronto Bank\",\n",
    "    \"Dime Bank\",\n",
    "    \"Essex Savings Bank\",\n",
    "    \"Fairfield County Bank\",\n",
    "    \"First Bank of Greenwich\",\n",
    "    \"First County Bank\",\n",
    "    \"Guilford Savings Bank\",\n",
    "    \"Ion Bank\",\n",
    "    \"Jewett City Savings Bank\",\n",
    "    \"Liberty Bank\",\n",
    "    \"Milford Bank\",\n",
    "    \"Newtown Savings Bank\",\n",
    "    \"Northwest Community Bank\",\n",
    "    \"Savings Bank of Danbury\",\n",
    "    \"Stafford Savings Bank\",\n",
    "    \"Thomaston Savings Bank\",\n",
    "    \"Torrington Savings Bank\",\n",
    "    \"Union Savings Bank\",\n",
    "    \"M&T Bank\",\n",
    "    \"Citizens Bank\",\n",
    "    \"Fifth Third Bank\",\n",
    "    \"FirstHorizonBank\",\n",
    "    \"FifthThirdBank\",\n",
    "    \"citizensbank\",\n",
    "    \"MandTBank\"\n",
    "]\n",
    "\n",
    "# Iterar sobre la lista de bancos y aplicar la función\n",
    "for bank in banks_list:\n",
    "    fetch_and_save_news(bank)\n",
    "    time.sleep(30)"
   ]
  },
  {
   "cell_type": "code",
   "execution_count": null,
   "id": "62a7094d-177f-469d-8aed-2403d653cd8a",
   "metadata": {},
   "outputs": [],
   "source": []
  },
  {
   "cell_type": "code",
   "execution_count": null,
   "id": "c95bc0a1-7e9c-4418-a4fa-e1478094e230",
   "metadata": {},
   "outputs": [],
   "source": []
  }
 ],
 "metadata": {
  "environment": {
   "kernel": "python3",
   "name": "common-cpu.m119",
   "type": "gcloud",
   "uri": "us-docker.pkg.dev/deeplearning-platform-release/gcr.io/base-cpu:m119"
  },
  "kernelspec": {
   "display_name": "Python 3 (ipykernel)",
   "language": "python",
   "name": "python3"
  },
  "language_info": {
   "codemirror_mode": {
    "name": "ipython",
    "version": 3
   },
   "file_extension": ".py",
   "mimetype": "text/x-python",
   "name": "python",
   "nbconvert_exporter": "python",
   "pygments_lexer": "ipython3",
   "version": "3.10.14"
  }
 },
 "nbformat": 4,
 "nbformat_minor": 5
}
