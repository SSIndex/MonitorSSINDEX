{
 "cells": [
  {
   "cell_type": "code",
   "execution_count": 12,
   "id": "cb3e0dfb-63a2-40d5-ac97-77bf0dd99634",
   "metadata": {
    "tags": []
   },
   "outputs": [],
   "source": [
    "#Este es el script que sirve\n",
    "import os\n",
    "import pandas as pd\n",
    "from outscraper import ApiClient\n",
    "import time"
   ]
  },
  {
   "cell_type": "code",
   "execution_count": 9,
   "id": "ad87f9eb-0dea-432c-829d-cf99d8bc37e6",
   "metadata": {
    "tags": []
   },
   "outputs": [],
   "source": [
    "# Configuración inicial\n",
    "api_key_outscraper = os.getenv(\"api_key_outscraper\")\n",
    "input_directory = 'New_Places_IDs_Banks'  # Directorio donde están tus archivos CSV\n",
    "output_directory = 'New_Google MAPS'  # Directorio donde guardarás los nuevos CSVs\n",
    "\n",
    "# Inicializar cliente de API de Outscraper\n",
    "api_client = ApiClient(api_key=api_key_outscraper)"
   ]
  },
  {
   "cell_type": "code",
   "execution_count": 10,
   "id": "bb9aa0e9-ffd1-4ad9-b284-de37a684022a",
   "metadata": {
    "tags": []
   },
   "outputs": [],
   "source": [
    "# Función para cargar CSV, obtener reseñas y guardar en un nuevo CSV\n",
    "def save_reviews_from_csv(csv_filepath, api_client, output_dir):\n",
    "    df = pd.read_csv(csv_filepath)\n",
    "    \n",
    "    for index, row in df.iterrows():\n",
    "        bank_name = row[\"name\"]\n",
    "        place_id = row[\"place_id\"]\n",
    "        \n",
    "        # Obtener reseñas utilizando Outscraper\n",
    "        results = api_client.google_maps_reviews(place_id, reviews_limit=100)\n",
    "        \n",
    "        # Lista para almacenar información de las reseñas\n",
    "        reviews_list = [{\n",
    "            'datetime': review['review_datetime_utc'],\n",
    "            'author_title': review['author_title'],\n",
    "            'review_text': review['review_text'],\n",
    "            'review_rating': review['review_rating']\n",
    "        } for place in results for review in place['reviews_data']]\n",
    "        \n",
    "        # Crear DataFrame y guardar en CSV\n",
    "        if reviews_list:\n",
    "            reviews_df = pd.DataFrame(reviews_list)\n",
    "            filename = f\"{bank_name.replace('/', '_')}_{place_id}.csv\"\n",
    "            filepath = os.path.join(output_dir, filename)\n",
    "            reviews_df.to_csv(filepath, index=False)\n",
    "            print(f\"El archivo {filepath} ha sido guardado con éxito.\")\n",
    "        else:\n",
    "            print(f\"No se encontraron reseñas para {bank_name} con place_id {place_id}.\")"
   ]
  },
  {
   "cell_type": "code",
   "execution_count": null,
   "id": "999989d8-2e65-4a08-ac54-cd83302329bf",
   "metadata": {
    "tags": []
   },
   "outputs": [
    {
     "name": "stdout",
     "output_type": "stream",
     "text": [
      "El archivo New_Google MAPS/M&T Bank_ChIJoZnbWTwQ6IkRjiY2F6nfk4A.csv ha sido guardado con éxito.\n",
      "El archivo New_Google MAPS/M&T Bank_ChIJi0OVAz4Q6IkRVYWMz12Izuo.csv ha sido guardado con éxito.\n",
      "El archivo New_Google MAPS/M&T Bank_ChIJE_WdJFL-54kRH7kIeKhFF-s.csv ha sido guardado con éxito.\n",
      "El archivo New_Google MAPS/M&T Bank_ChIJFcm7FyWqwokR1GXRVtsE62s.csv ha sido guardado con éxito.\n",
      "El archivo New_Google MAPS/M&T Bank_ChIJP7T0KwoO6IkRBnXGOK6CzO8.csv ha sido guardado con éxito.\n",
      "El archivo New_Google MAPS/M&T Bank_ChIJ_c_VD0pV5okR3KMByTd4y90.csv ha sido guardado con éxito.\n",
      "El archivo New_Google MAPS/M&T Bank_ChIJZcbrrax2K4cRjlLcpTjJrhk.csv ha sido guardado con éxito.\n",
      "El archivo New_Google MAPS/M&T Bank_ChIJU0dyTWKz54kRe3pMbQzSpIg.csv ha sido guardado con éxito.\n",
      "El archivo New_Google MAPS/M&T Bank_ChIJE_yijnG354kRe6AKB0fEmrk.csv ha sido guardado con éxito.\n",
      "El archivo New_Google MAPS/M&T Bank_ChIJJ6EsOJAP5okRjZ_QkOI07bs.csv ha sido guardado con éxito.\n",
      "El archivo New_Google MAPS/M&T Bank_ChIJez7pggcd6IkRVMSk3tpwm7g.csv ha sido guardado con éxito.\n",
      "El archivo New_Google MAPS/M&T Bank_ChIJQdwmSjNT5okRc2liF5fVFxQ.csv ha sido guardado con éxito.\n",
      "El archivo New_Google MAPS/M&T Bank_ChIJWaapIXWz54kRF3NkEQu_AYE.csv ha sido guardado con éxito.\n",
      "El archivo New_Google MAPS/M&T Bank_ChIJeaHU7BpT5okRWiajMpL83SA.csv ha sido guardado con éxito.\n",
      "El archivo New_Google MAPS/M&T Bank_ChIJPeIPFL8P6IkR2xsQc_e0Cnw.csv ha sido guardado con éxito.\n",
      "El archivo New_Google MAPS/M&T Bank_ChIJRxsqxxOv54kR1t2mb3TSWCQ.csv ha sido guardado con éxito.\n",
      "El archivo New_Google MAPS/M&T Bank_ChIJ1_ePXNy754kRKD5vyCHR-ZY.csv ha sido guardado con éxito.\n",
      "El archivo New_Google MAPS/M&T Bank_ChIJSSA-syTK54kRvN0Xq-iM89M.csv ha sido guardado con éxito.\n",
      "El archivo New_Google MAPS/M&T Bank_ChIJ-RepWIRN5okRq-oyOExxj6w.csv ha sido guardado con éxito.\n",
      "El archivo New_Google MAPS/M&T Bank_ChIJnfUdX0_Z54kRDreenuYoYIM.csv ha sido guardado con éxito.\n",
      "El archivo New_Google MAPS/Citizens_ChIJoW4DzsbX54kRn5FlHQ9yxTs.csv ha sido guardado con éxito.\n",
      "El archivo New_Google MAPS/Citizens_ChIJYcPk0u2s54kR3GnNKGiGxWQ.csv ha sido guardado con éxito.\n",
      "El archivo New_Google MAPS/Citizens_ChIJI1druJZK5okRQhl1XxFdsRs.csv ha sido guardado con éxito.\n",
      "El archivo New_Google MAPS/Citizens_ChIJFYu46WEO5okRgWyKn0GYWuc.csv ha sido guardado con éxito.\n",
      "El archivo New_Google MAPS/Citizens_ChIJHxIXFwQm5okRjYQ7uPsCspI.csv ha sido guardado con éxito.\n",
      "El archivo New_Google MAPS/Citizens_ChIJvdYsSo106IkRw_X5u5FgFqs.csv ha sido guardado con éxito.\n",
      "El archivo New_Google MAPS/Citizens_ChIJOddk7Px16IkR6Pwl-uXyRX8.csv ha sido guardado con éxito.\n",
      "El archivo New_Google MAPS/Citizens_ChIJbaqxBBYk5okRm1s-j3ohxy0.csv ha sido guardado con éxito.\n",
      "El archivo New_Google MAPS/Citizens_ChIJm7Aja0NK5okRnOPjMrjnMRs.csv ha sido guardado con éxito.\n",
      "El archivo New_Google MAPS/Citizens_ChIJuWo_zzXQ54kRGVkknkbNLmw.csv ha sido guardado con éxito.\n",
      "El archivo New_Google MAPS/Citizens_ChIJ58et--VM5okRzLHLHB3-8tA.csv ha sido guardado con éxito.\n",
      "El archivo New_Google MAPS/Citizens_ChIJ99yXJTEO5okR66MMm1FnX4M.csv ha sido guardado con éxito.\n",
      "El archivo New_Google MAPS/Citizens_ChIJCcb9E29X5okRvSgkpdm858A.csv ha sido guardado con éxito.\n",
      "El archivo New_Google MAPS/Citizens_ChIJzSIH_U3k5IkRbUsDB1_tkiU.csv ha sido guardado con éxito.\n",
      "El archivo New_Google MAPS/Citizens_ChIJ99yXJTEO5okRt3z8R19QjzY.csv ha sido guardado con éxito.\n",
      "El archivo New_Google MAPS/Citizens_ChIJt-PHWWLa54kRnyXDReq-5dk.csv ha sido guardado con éxito.\n",
      "El archivo New_Google MAPS/Citizens_ChIJCc15n7XZ54kReljX1GZM8BM.csv ha sido guardado con éxito.\n",
      "El archivo New_Google MAPS/Citizens_ChIJVahemG9L5okROdTp49a6C4M.csv ha sido guardado con éxito.\n",
      "El archivo New_Google MAPS/Citizens_ChIJB75326kaxYkRAnU7kX24ekM.csv ha sido guardado con éxito.\n",
      "El archivo New_Google MAPS/Citizens_ChIJa-4OL-ahwokRKg3Zjw0d4dQ.csv ha sido guardado con éxito.\n",
      "El archivo New_Google MAPS/Fifth Third Bank & ATM_ChIJD8sYHf8tDogRhMuHLunB_Yg.csv ha sido guardado con éxito.\n",
      "El archivo New_Google MAPS/Fifth Third Bank & ATM_ChIJp60-HsEtDogRAopEEKqy6kM.csv ha sido guardado con éxito.\n",
      "El archivo New_Google MAPS/Fifth Third Bank & ATM_ChIJy5Lcx5csDogRtMJNVD0ohaU.csv ha sido guardado con éxito.\n",
      "El archivo New_Google MAPS/Fifth Third Bank & ATM_ChIJQZGn2m0pDogRBbhL5QJFKsw.csv ha sido guardado con éxito.\n",
      "El archivo New_Google MAPS/Fifth Third Bank & ATM_ChIJQ1g6mqUsDogR0kYF1Xfzf8I.csv ha sido guardado con éxito.\n",
      "El archivo New_Google MAPS/Fifth Third Bank & ATM_ChIJfTZ6SUQyDogRRcWlpNi7TT4.csv ha sido guardado con éxito.\n",
      "El archivo New_Google MAPS/Fifth Third Bank & ATM_ChIJAcm8_LYsDogRamcGmMJh7zo.csv ha sido guardado con éxito.\n",
      "El archivo New_Google MAPS/Fifth Third Bank & ATM_ChIJvyco3t0tDogRa4NX0mQP-4c.csv ha sido guardado con éxito.\n",
      "El archivo New_Google MAPS/Fifth Third Bank & ATM_ChIJ146-TRktDogR9sydijcnsXM.csv ha sido guardado con éxito.\n",
      "El archivo New_Google MAPS/Fifth Third Bank & ATM_ChIJyU6JGdvTD4gRFtaO_-msJ94.csv ha sido guardado con éxito.\n",
      "El archivo New_Google MAPS/Fifth Third Bank & ATM_ChIJEwoKHb8sDogRg3AuuYmjV1A.csv ha sido guardado con éxito.\n",
      "El archivo New_Google MAPS/Fifth Third Bank & ATM_ChIJQ9iniLosDogRDcG-yw41sxE.csv ha sido guardado con éxito.\n",
      "El archivo New_Google MAPS/Fifth Third Bank & ATM_ChIJHzEHXr0tDogRF4GG63QyYP0.csv ha sido guardado con éxito.\n",
      "El archivo New_Google MAPS/Fifth Third Bank & ATM_ChIJ_6ZQul0tDogRCgXY5BKK3kw.csv ha sido guardado con éxito.\n",
      "El archivo New_Google MAPS/Fifth Third Bank & ATM_ChIJYaHLwnuyQYgRtiSN64SqmWI.csv ha sido guardado con éxito.\n",
      "El archivo New_Google MAPS/Fifth Third Bank & ATM_ChIJM-jqCoUtDogRFB8AoEt98uc.csv ha sido guardado con éxito.\n",
      "El archivo New_Google MAPS/Fifth Third Bank & ATM_ChIJFf65ZiPTD4gRs2IyScc3EGQ.csv ha sido guardado con éxito.\n",
      "El archivo New_Google MAPS/Fifth Third Bank & ATM_ChIJs2O6i7rTD4gRss-Est1nw28.csv ha sido guardado con éxito.\n",
      "El archivo New_Google MAPS/Fifth Third Bank & ATM_ChIJxdW9yHQnDogRTMH_dP6mQM0.csv ha sido guardado con éxito.\n",
      "El archivo New_Google MAPS/Fifth Third Bank & ATM_ChIJ7WsUyKnTD4gRyeZoYJ2ufvI.csv ha sido guardado con éxito.\n",
      "El archivo New_Google MAPS/First Horizon Bank_ChIJH0CkOwIruokR2r9_Xl2v958.csv ha sido guardado con éxito.\n",
      "El archivo New_Google MAPS/First Horizon Bank_ChIJoYgmuWQLf4gRUhI32-QQf50.csv ha sido guardado con éxito.\n",
      "No se encontraron reseñas para First Horizon Banking Center con place_id ChIJ6_wvLBt-1YcRqPqFGIV_-24.\n",
      "No se encontraron reseñas para First Horizon con place_id ChIJu8BlzL581YcR97DMKk_-3rM.\n",
      "No se encontraron reseñas para First Horizon con place_id ChIJF0J-XaKmfogR1jBrJSuwIbs.\n",
      "El archivo New_Google MAPS/First Horizon Bank_ChIJJR1Kj_7H2YgR3k2ZRF5pGM8.csv ha sido guardado con éxito.\n",
      "El archivo New_Google MAPS/First Horizon Bank_ChIJkZzW8HtPZIgRJ4tuUqFfCVM.csv ha sido guardado con éxito.\n",
      "El archivo New_Google MAPS/First Horizon Bank_ChIJV736OHjhwogRfKEJZuq7ji0.csv ha sido guardado con éxito.\n",
      "El archivo New_Google MAPS/First Horizon Bank_ChIJ3T9WwL-Ff4gRTbn37o4J65c.csv ha sido guardado con éxito.\n",
      "El archivo New_Google MAPS/First Horizon Bank_ChIJIxIKN6_H2YgRxDcMn3AsWwY.csv ha sido guardado con éxito.\n",
      "El archivo New_Google MAPS/First Horizon Bank_ChIJpyAOiZ222YgRcZSlbEg_pvY.csv ha sido guardado con éxito.\n",
      "El archivo New_Google MAPS/First Horizon Bank_ChIJg-et23sjTIYROvTvcPpyzPU.csv ha sido guardado con éxito.\n",
      "El archivo New_Google MAPS/First Horizon Bank_ChIJ4x8Wbi-5U4gRhTwG70wk_E8.csv ha sido guardado con éxito.\n",
      "El archivo New_Google MAPS/First Horizon Bank_ChIJM3U8Gm-z2YgR-pwEihnpgVw.csv ha sido guardado con éxito.\n",
      "El archivo New_Google MAPS/First Horizon Bank_ChIJo54lLjqbf4gRx9U-95mLIU8.csv ha sido guardado con éxito.\n",
      "El archivo New_Google MAPS/First Horizon Bank_ChIJk-M0NWS52YgRN-YjlRTfuRw.csv ha sido guardado con éxito.\n",
      "El archivo New_Google MAPS/First Horizon Bank_ChIJn9glIkKHf4gRF1LnbCG1K1M.csv ha sido guardado con éxito.\n",
      "El archivo New_Google MAPS/First Horizon Bank_ChIJ1cHp7ZN-1YcRMufZwO3vzcM.csv ha sido guardado con éxito.\n",
      "El archivo New_Google MAPS/First Horizon Bank_ChIJJQMIUd2Df4gRzaxR0uAW_l0.csv ha sido guardado con éxito.\n",
      "El archivo New_Google MAPS/First Horizon Bank_ChIJP1NPfMxtZIgR5VjV2PjfTj4.csv ha sido guardado con éxito.\n",
      "El archivo New_Google MAPS/First Horizon Bank_ChIJZXBALZNlZIgR7gWxomfCtsk.csv ha sido guardado con éxito.\n"
     ]
    }
   ],
   "source": [
    "# Procesar cada archivo CSV en el directorio de entrada\n",
    "for csv_file in os.listdir(input_directory):\n",
    "    if csv_file.endswith('.csv'):\n",
    "        csv_filepath = os.path.join(input_directory, csv_file)\n",
    "        save_reviews_from_csv(csv_filepath, api_client, output_directory)\n",
    "    time.sleep(10)"
   ]
  },
  {
   "cell_type": "code",
   "execution_count": null,
   "id": "26aeef96-353e-48c8-a199-a3859f95c41d",
   "metadata": {},
   "outputs": [],
   "source": []
  }
 ],
 "metadata": {
  "environment": {
   "kernel": "python3",
   "name": "common-cpu.m119",
   "type": "gcloud",
   "uri": "us-docker.pkg.dev/deeplearning-platform-release/gcr.io/base-cpu:m119"
  },
  "kernelspec": {
   "display_name": "Python 3 (ipykernel)",
   "language": "python",
   "name": "python3"
  },
  "language_info": {
   "codemirror_mode": {
    "name": "ipython",
    "version": 3
   },
   "file_extension": ".py",
   "mimetype": "text/x-python",
   "name": "python",
   "nbconvert_exporter": "python",
   "pygments_lexer": "ipython3",
   "version": "3.10.14"
  }
 },
 "nbformat": 4,
 "nbformat_minor": 5
}
