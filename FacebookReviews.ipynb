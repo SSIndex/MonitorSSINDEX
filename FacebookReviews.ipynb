{
 "cells": [
  {
   "cell_type": "code",
   "execution_count": 3,
   "id": "26527de6-ee56-4892-96f1-7e571efbf671",
   "metadata": {
    "tags": []
   },
   "outputs": [],
   "source": [
    "import requests\n",
    "import pandas as pd\n",
    "import os"
   ]
  },
  {
   "cell_type": "code",
   "execution_count": 7,
   "id": "141423fb-9358-4595-a5f5-d1f5bd31e0d3",
   "metadata": {
    "tags": []
   },
   "outputs": [],
   "source": [
    "# Lista de URLs de Facebook o nombres de usuario para cada banco (o negocio)\n",
    "facebook_pages = [\"FirstHorizonBank\",\n",
    "                  \"FifthThirdBank\",\n",
    "                  \"citizensbank\",\n",
    "                  \"MandTBank\",\n",
    "                  \"FairfieldCountyBank\"]\n",
    "\n",
    "# Clave de API de Outscraper\n",
    "api_key = os.getenv(\"api_key_outscraper\")"
   ]
  },
  {
   "cell_type": "code",
   "execution_count": 8,
   "id": "165e235e-6baf-451b-927c-dc2910ac66b5",
   "metadata": {
    "tags": []
   },
   "outputs": [],
   "source": [
    "# Función para obtener y guardar las reseñas de Facebook de una página\n",
    "def get_and_save_facebook_reviews(facebook_page, api_key):\n",
    "    # Extraer el nombre de la página de Facebook para nombrar el archivo CSV\n",
    "    page_name = facebook_page.split(\"/\")[-1] if facebook_page.startswith(\"http\") else facebook_page\n",
    "    \n",
    "    # URL de la API de Outscraper\n",
    "    url = f\"https://api.app.outscraper.com/facebook/reviews\"\n",
    "    \n",
    "    # Parámetros para la solicitud incluyendo la clave de la API y la página de Facebook\n",
    "    params = {\n",
    "        'query': facebook_page,\n",
    "        'async': 'false'\n",
    "    }\n",
    "    \n",
    "    # Encabezados para la solicitud incluyendo la clave de la API\n",
    "    headers = {\"X-API-KEY\": api_key}\n",
    "    \n",
    "    # Realizar la solicitud GET a la API\n",
    "    response = requests.get(url, headers=headers, params=params)\n",
    "    \n",
    "    if response.status_code == 200:\n",
    "        reviews_data = response.json().get('data', [])\n",
    "        \n",
    "        # Verificar que hay datos de reseñas\n",
    "        if reviews_data:\n",
    "            # La API devuelve una lista de listas de reseñas, por lo que se toma el primer elemento\n",
    "            reviews_list = reviews_data[0]\n",
    "            \n",
    "            # Crear DataFrame a partir de los datos de las reseñas\n",
    "            df_reviews = pd.DataFrame(reviews_list)\n",
    "            \n",
    "            # Guardar los datos en un archivo CSV\n",
    "            filename = f\"New_Facebook/{page_name}_reviews.csv\"\n",
    "            df_reviews.to_csv(filename, index=False)\n",
    "            print(f\"Reseñas de '{page_name}' guardadas correctamente.\")\n",
    "        else:\n",
    "            print(f\"No se encontraron reseñas para la página: {page_name}\")\n",
    "    else:\n",
    "        print(f\"Error en la petición para la página {page_name}: {response.status_code}\")"
   ]
  },
  {
   "cell_type": "code",
   "execution_count": 9,
   "id": "77a3957f-0586-414d-a187-a4ecdbcda00b",
   "metadata": {
    "tags": []
   },
   "outputs": [
    {
     "name": "stdout",
     "output_type": "stream",
     "text": [
      "Reseñas de 'FirstHorizonBank' guardadas correctamente.\n",
      "Reseñas de 'FifthThirdBank' guardadas correctamente.\n",
      "Reseñas de 'citizensbank' guardadas correctamente.\n",
      "Reseñas de 'MandTBank' guardadas correctamente.\n",
      "Reseñas de 'FairfieldCountyBank' guardadas correctamente.\n"
     ]
    }
   ],
   "source": [
    "# Bucle para obtener y guardar reseñas de cada página de Facebook\n",
    "for fb_page in facebook_pages:\n",
    "    get_and_save_facebook_reviews(fb_page, api_key)"
   ]
  },
  {
   "cell_type": "code",
   "execution_count": null,
   "id": "0abc2a07-8939-46b7-ab0b-668697a204e4",
   "metadata": {},
   "outputs": [],
   "source": []
  }
 ],
 "metadata": {
  "environment": {
   "kernel": "python3",
   "name": "common-cpu.m119",
   "type": "gcloud",
   "uri": "us-docker.pkg.dev/deeplearning-platform-release/gcr.io/base-cpu:m119"
  },
  "kernelspec": {
   "display_name": "Python 3 (ipykernel)",
   "language": "python",
   "name": "python3"
  },
  "language_info": {
   "codemirror_mode": {
    "name": "ipython",
    "version": 3
   },
   "file_extension": ".py",
   "mimetype": "text/x-python",
   "name": "python",
   "nbconvert_exporter": "python",
   "pygments_lexer": "ipython3",
   "version": "3.10.14"
  }
 },
 "nbformat": 4,
 "nbformat_minor": 5
}
