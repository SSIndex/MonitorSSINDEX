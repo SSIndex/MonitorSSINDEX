{
 "cells": [
  {
   "cell_type": "code",
   "execution_count": 1,
   "id": "b5bc04ed-0945-4486-85f3-8b1fbe13e3f8",
   "metadata": {
    "tags": []
   },
   "outputs": [],
   "source": [
    "import os\n",
    "import pandas as pd\n"
   ]
  },
  {
   "cell_type": "code",
   "execution_count": 2,
   "id": "31939973-9797-4fd8-b47e-a2ed00c1b7a5",
   "metadata": {
    "tags": []
   },
   "outputs": [],
   "source": [
    "banks=['Bankwell Bank', 'Chelsea Gronto Bank', 'Dime Bank', 'Essex Savings Bank', 'Fairfield County Bank', 'First Bank of Greenwich', 'First County Bank', 'Guilford Savings Bank', 'Ion Bank', 'Jewett City Savings Bank', 'Liberty Bank', 'Milford Bank', 'Newtown Savings Bank', 'Northwest Community Bank', 'Savings Bank of Danbury', 'Stafford Savings Bank', 'Thomaston Savings Bank', 'Torrington Savings Bank', 'Union Savings Bank', 'M&T Bank', 'Citizens Bank', 'Fifth Third Bank','First Horizon Bank','Webster Bank']"
   ]
  },
  {
   "cell_type": "code",
   "execution_count": 5,
   "id": "639e23e2-f69d-4522-8f99-57b84a775241",
   "metadata": {
    "tags": []
   },
   "outputs": [
    {
     "name": "stderr",
     "output_type": "stream",
     "text": [
      "/opt/conda/lib/python3.10/site-packages/fuzzywuzzy/fuzz.py:11: UserWarning: Using slow pure-python SequenceMatcher. Install python-Levenshtein to remove this warning\n",
      "  warnings.warn('Using slow pure-python SequenceMatcher. Install python-Levenshtein to remove this warning')\n"
     ]
    }
   ],
   "source": [
    "import pandas as pd\n",
    "from fuzzywuzzy import process\n",
    "\n",
    "banks = ['Bankwell Bank', 'Chelsea Gronto Bank', 'Dime Bank', 'Essex Savings Bank',\n",
    "         'Fairfield County Bank', 'First Bank of Greenwich', 'First County Bank',\n",
    "         'Guilford Savings Bank', 'Ion Bank', 'Jewett City Savings Bank', 'Liberty Bank',\n",
    "         'Milford Bank', 'Newtown Savings Bank', 'Northwest Community Bank',\n",
    "         'Savings Bank of Danbury', 'Stafford Savings Bank', 'Thomaston Savings Bank',\n",
    "         'Torrington Savings Bank', 'Union Savings Bank', 'M&T Bank', 'Citizens Bank',\n",
    "         'Fifth Third Bank','First Horizon Bank','Webster Bank']\n",
    "\n",
    "def find_closest_bank(filename, bank_list):\n",
    "    potential_bank_name = filename.split('_')[1]\n",
    "    closest_bank = process.extractOne(potential_bank_name, bank_list)[0]\n",
    "    return closest_bank\n",
    "def find_closest_bank_v2(filename, bank_list):\n",
    "    closest_bank = process.extractOne(filename, bank_list)[0]\n",
    "    return closest_bank\n",
    "def find_closest_bank_v3(filename, bank_list):\n",
    "    potential_bank_name = filename.split('-')[0]\n",
    "    closest_bank = process.extractOne(potential_bank_name, bank_list)[0]\n",
    "    return closest_bank"
   ]
  },
  {
   "cell_type": "markdown",
   "id": "99c9b885-b79d-4167-811f-31e1d698464a",
   "metadata": {},
   "source": [
    "## Google Maps"
   ]
  },
  {
   "cell_type": "code",
   "execution_count": 9,
   "id": "cff5924e-c3a7-465e-ba46-363614a010fb",
   "metadata": {
    "tags": []
   },
   "outputs": [
    {
     "name": "stdout",
     "output_type": "stream",
     "text": [
      "<class 'pandas.core.frame.DataFrame'>\n",
      "RangeIndex: 15610 entries, 0 to 15609\n",
      "Data columns (total 8 columns):\n",
      " #   Column         Non-Null Count  Dtype \n",
      "---  ------         --------------  ----- \n",
      " 0   datetime       15610 non-null  object\n",
      " 1   author_title   15610 non-null  object\n",
      " 2   review_text    11238 non-null  object\n",
      " 3   review_rating  15610 non-null  int64 \n",
      " 4   state          15610 non-null  object\n",
      " 5   place_id       15610 non-null  object\n",
      " 6   File Name      15610 non-null  object\n",
      " 7   Bank Name      15610 non-null  object\n",
      "dtypes: int64(1), object(7)\n",
      "memory usage: 975.8+ KB\n"
     ]
    }
   ],
   "source": [
    "folder_path ='Proyect Webster/Google_Maps'\n",
    "dfs = []\n",
    "\n",
    "for filename in os.listdir(folder_path):\n",
    "    if filename.endswith('.csv'):\n",
    "        file_path = os.path.join(folder_path, filename)\n",
    "        try:\n",
    "            # Extrae el nombre del banco del nombre del archivo\n",
    "            bank_name = filename.split('_')[0].replace('-', ' ')  # Reemplaza '-' con ' ' para el nombre del banco\n",
    "            df = pd.read_csv(file_path)\n",
    "            # Verifica si el archivo está vacío\n",
    "            if df.empty:\n",
    "                raise pd.errors.EmptyDataError(f\"El archivo {filename} está vacío.\")\n",
    "            # Crea una nueva columna con el nombre del banco\n",
    "            df['File Name']=filename\n",
    "            df['Bank Name'] = df['File Name'].apply(lambda x: find_closest_bank_v2(x, banks))\n",
    "#            df['Bank Name'] = bank_name\n",
    "            dfs.append(df)\n",
    "        except pd.errors.EmptyDataError:\n",
    "            print(f\"Archivo vacío: {filename}\")\n",
    "            continue  # Salta al siguiente archivo\n",
    "df_concatenado = pd.concat(dfs, ignore_index=True)\n",
    "df_concatenado.info()\n",
    "df_concatenado.to_csv('data/google_maps_reviews_full_25_04_24.csv',index=False)"
   ]
  },
  {
   "cell_type": "code",
   "execution_count": 14,
   "id": "8279adc2-a2d5-445c-919d-160fdf829ed3",
   "metadata": {},
   "outputs": [
    {
     "data": {
      "text/plain": [
       "Bank Name\n",
       "Fifth Third Bank      4372\n",
       "Dime Bank             3170\n",
       "First Horizon Bank    2932\n",
       "Webster Bank          2602\n",
       "Citizens Bank         2534\n",
       "Name: count, dtype: int64"
      ]
     },
     "execution_count": 14,
     "metadata": {},
     "output_type": "execute_result"
    }
   ],
   "source": [
    "df_concatenado['Bank Name'].value_counts()"
   ]
  },
  {
   "cell_type": "code",
   "execution_count": 8,
   "id": "881b148c-3d1e-476f-9d13-06dc11b0cf52",
   "metadata": {},
   "outputs": [
    {
     "data": {
      "text/html": [
       "<div>\n",
       "<style scoped>\n",
       "    .dataframe tbody tr th:only-of-type {\n",
       "        vertical-align: middle;\n",
       "    }\n",
       "\n",
       "    .dataframe tbody tr th {\n",
       "        vertical-align: top;\n",
       "    }\n",
       "\n",
       "    .dataframe thead th {\n",
       "        text-align: right;\n",
       "    }\n",
       "</style>\n",
       "<table border=\"1\" class=\"dataframe\">\n",
       "  <thead>\n",
       "    <tr style=\"text-align: right;\">\n",
       "      <th></th>\n",
       "      <th>datetime</th>\n",
       "      <th>author_title</th>\n",
       "      <th>review_text</th>\n",
       "      <th>review_rating</th>\n",
       "      <th>state</th>\n",
       "      <th>place_id</th>\n",
       "      <th>File Name</th>\n",
       "      <th>Bank Name</th>\n",
       "    </tr>\n",
       "  </thead>\n",
       "  <tbody>\n",
       "    <tr>\n",
       "      <th>0</th>\n",
       "      <td>04/13/2023 20:47:14</td>\n",
       "      <td>larry golden</td>\n",
       "      <td>This review is for Shannon Everett \"relationsh...</td>\n",
       "      <td>5</td>\n",
       "      <td>Colorado</td>\n",
       "      <td>ChIJfa0zRdWq54kRijhwwYe64XM</td>\n",
       "      <td>Webster_reviews.csv</td>\n",
       "      <td>Fairfield County Bank</td>\n",
       "    </tr>\n",
       "    <tr>\n",
       "      <th>1</th>\n",
       "      <td>04/16/2022 17:08:39</td>\n",
       "      <td>Jamal Chambers</td>\n",
       "      <td>My child (under 16) needed to cash a Webster c...</td>\n",
       "      <td>1</td>\n",
       "      <td>Colorado</td>\n",
       "      <td>ChIJfa0zRdWq54kRijhwwYe64XM</td>\n",
       "      <td>Webster_reviews.csv</td>\n",
       "      <td>Fairfield County Bank</td>\n",
       "    </tr>\n",
       "    <tr>\n",
       "      <th>2</th>\n",
       "      <td>07/20/2019 15:01:08</td>\n",
       "      <td>Cristina Ramirez</td>\n",
       "      <td>I have an account here and banking is fine. Bu...</td>\n",
       "      <td>3</td>\n",
       "      <td>Colorado</td>\n",
       "      <td>ChIJfa0zRdWq54kRijhwwYe64XM</td>\n",
       "      <td>Webster_reviews.csv</td>\n",
       "      <td>Fairfield County Bank</td>\n",
       "    </tr>\n",
       "    <tr>\n",
       "      <th>3</th>\n",
       "      <td>12/27/2021 15:19:36</td>\n",
       "      <td>Andy Russell</td>\n",
       "      <td>This Banks location is a nightmare you can lit...</td>\n",
       "      <td>5</td>\n",
       "      <td>Colorado</td>\n",
       "      <td>ChIJfa0zRdWq54kRijhwwYe64XM</td>\n",
       "      <td>Webster_reviews.csv</td>\n",
       "      <td>Fairfield County Bank</td>\n",
       "    </tr>\n",
       "    <tr>\n",
       "      <th>4</th>\n",
       "      <td>02/23/2021 18:50:05</td>\n",
       "      <td>The Tribe</td>\n",
       "      <td>There was money stolen from one of my family m...</td>\n",
       "      <td>1</td>\n",
       "      <td>Colorado</td>\n",
       "      <td>ChIJfa0zRdWq54kRijhwwYe64XM</td>\n",
       "      <td>Webster_reviews.csv</td>\n",
       "      <td>Fairfield County Bank</td>\n",
       "    </tr>\n",
       "    <tr>\n",
       "      <th>...</th>\n",
       "      <td>...</td>\n",
       "      <td>...</td>\n",
       "      <td>...</td>\n",
       "      <td>...</td>\n",
       "      <td>...</td>\n",
       "      <td>...</td>\n",
       "      <td>...</td>\n",
       "      <td>...</td>\n",
       "    </tr>\n",
       "    <tr>\n",
       "      <th>2597</th>\n",
       "      <td>08/25/2023 17:15:47</td>\n",
       "      <td>Teresa Reid</td>\n",
       "      <td>NaN</td>\n",
       "      <td>4</td>\n",
       "      <td>District of Columbia</td>\n",
       "      <td>ChIJjZDcf6xZwokRUosyCVqCKuw</td>\n",
       "      <td>Webster_reviews.csv</td>\n",
       "      <td>Fairfield County Bank</td>\n",
       "    </tr>\n",
       "    <tr>\n",
       "      <th>2598</th>\n",
       "      <td>06/03/2022 17:29:47</td>\n",
       "      <td>Mynor Escobar</td>\n",
       "      <td>NaN</td>\n",
       "      <td>5</td>\n",
       "      <td>District of Columbia</td>\n",
       "      <td>ChIJjZDcf6xZwokRUosyCVqCKuw</td>\n",
       "      <td>Webster_reviews.csv</td>\n",
       "      <td>Fairfield County Bank</td>\n",
       "    </tr>\n",
       "    <tr>\n",
       "      <th>2599</th>\n",
       "      <td>08/01/2018 19:42:25</td>\n",
       "      <td>Francklin Colimon</td>\n",
       "      <td>NaN</td>\n",
       "      <td>1</td>\n",
       "      <td>District of Columbia</td>\n",
       "      <td>ChIJjZDcf6xZwokRUosyCVqCKuw</td>\n",
       "      <td>Webster_reviews.csv</td>\n",
       "      <td>Fairfield County Bank</td>\n",
       "    </tr>\n",
       "    <tr>\n",
       "      <th>2600</th>\n",
       "      <td>10/25/2017 17:40:54</td>\n",
       "      <td>shavannah batson</td>\n",
       "      <td>NaN</td>\n",
       "      <td>5</td>\n",
       "      <td>District of Columbia</td>\n",
       "      <td>ChIJjZDcf6xZwokRUosyCVqCKuw</td>\n",
       "      <td>Webster_reviews.csv</td>\n",
       "      <td>Fairfield County Bank</td>\n",
       "    </tr>\n",
       "    <tr>\n",
       "      <th>2601</th>\n",
       "      <td>07/10/2016 16:10:44</td>\n",
       "      <td>Anthony Tapia</td>\n",
       "      <td>NaN</td>\n",
       "      <td>5</td>\n",
       "      <td>District of Columbia</td>\n",
       "      <td>ChIJjZDcf6xZwokRUosyCVqCKuw</td>\n",
       "      <td>Webster_reviews.csv</td>\n",
       "      <td>Fairfield County Bank</td>\n",
       "    </tr>\n",
       "  </tbody>\n",
       "</table>\n",
       "<p>2602 rows × 8 columns</p>\n",
       "</div>"
      ],
      "text/plain": [
       "                 datetime       author_title  \\\n",
       "0     04/13/2023 20:47:14       larry golden   \n",
       "1     04/16/2022 17:08:39     Jamal Chambers   \n",
       "2     07/20/2019 15:01:08   Cristina Ramirez   \n",
       "3     12/27/2021 15:19:36       Andy Russell   \n",
       "4     02/23/2021 18:50:05          The Tribe   \n",
       "...                   ...                ...   \n",
       "2597  08/25/2023 17:15:47        Teresa Reid   \n",
       "2598  06/03/2022 17:29:47      Mynor Escobar   \n",
       "2599  08/01/2018 19:42:25  Francklin Colimon   \n",
       "2600  10/25/2017 17:40:54   shavannah batson   \n",
       "2601  07/10/2016 16:10:44      Anthony Tapia   \n",
       "\n",
       "                                            review_text  review_rating  \\\n",
       "0     This review is for Shannon Everett \"relationsh...              5   \n",
       "1     My child (under 16) needed to cash a Webster c...              1   \n",
       "2     I have an account here and banking is fine. Bu...              3   \n",
       "3     This Banks location is a nightmare you can lit...              5   \n",
       "4     There was money stolen from one of my family m...              1   \n",
       "...                                                 ...            ...   \n",
       "2597                                                NaN              4   \n",
       "2598                                                NaN              5   \n",
       "2599                                                NaN              1   \n",
       "2600                                                NaN              5   \n",
       "2601                                                NaN              5   \n",
       "\n",
       "                     state                     place_id            File Name  \\\n",
       "0                 Colorado  ChIJfa0zRdWq54kRijhwwYe64XM  Webster_reviews.csv   \n",
       "1                 Colorado  ChIJfa0zRdWq54kRijhwwYe64XM  Webster_reviews.csv   \n",
       "2                 Colorado  ChIJfa0zRdWq54kRijhwwYe64XM  Webster_reviews.csv   \n",
       "3                 Colorado  ChIJfa0zRdWq54kRijhwwYe64XM  Webster_reviews.csv   \n",
       "4                 Colorado  ChIJfa0zRdWq54kRijhwwYe64XM  Webster_reviews.csv   \n",
       "...                    ...                          ...                  ...   \n",
       "2597  District of Columbia  ChIJjZDcf6xZwokRUosyCVqCKuw  Webster_reviews.csv   \n",
       "2598  District of Columbia  ChIJjZDcf6xZwokRUosyCVqCKuw  Webster_reviews.csv   \n",
       "2599  District of Columbia  ChIJjZDcf6xZwokRUosyCVqCKuw  Webster_reviews.csv   \n",
       "2600  District of Columbia  ChIJjZDcf6xZwokRUosyCVqCKuw  Webster_reviews.csv   \n",
       "2601  District of Columbia  ChIJjZDcf6xZwokRUosyCVqCKuw  Webster_reviews.csv   \n",
       "\n",
       "                  Bank Name  \n",
       "0     Fairfield County Bank  \n",
       "1     Fairfield County Bank  \n",
       "2     Fairfield County Bank  \n",
       "3     Fairfield County Bank  \n",
       "4     Fairfield County Bank  \n",
       "...                     ...  \n",
       "2597  Fairfield County Bank  \n",
       "2598  Fairfield County Bank  \n",
       "2599  Fairfield County Bank  \n",
       "2600  Fairfield County Bank  \n",
       "2601  Fairfield County Bank  \n",
       "\n",
       "[2602 rows x 8 columns]"
      ]
     },
     "execution_count": 8,
     "metadata": {},
     "output_type": "execute_result"
    }
   ],
   "source": [
    "df"
   ]
  },
  {
   "cell_type": "markdown",
   "id": "0ae36db5-6c81-4244-831a-e0ea66e277a9",
   "metadata": {},
   "source": [
    "## Tweets"
   ]
  },
  {
   "cell_type": "code",
   "execution_count": 15,
   "id": "81c3b6c0-cb04-489b-a3a9-b704cc9fb185",
   "metadata": {},
   "outputs": [
    {
     "name": "stdout",
     "output_type": "stream",
     "text": [
      "<class 'pandas.core.frame.DataFrame'>\n",
      "RangeIndex: 167 entries, 0 to 166\n",
      "Data columns (total 4 columns):\n",
      " #   Column      Non-Null Count  Dtype  \n",
      "---  ------      --------------  -----  \n",
      " 0   created_at  0 non-null      float64\n",
      " 1   text        167 non-null    object \n",
      " 2   File Name   167 non-null    object \n",
      " 3   Bank Name   167 non-null    object \n",
      "dtypes: float64(1), object(3)\n",
      "memory usage: 5.3+ KB\n"
     ]
    }
   ],
   "source": [
    "folder_path = 'Proyect Webster/Tweets'\n",
    "dfs = []\n",
    "\n",
    "for filename in os.listdir(folder_path):\n",
    "    if filename.endswith('.csv'):\n",
    "        file_path = os.path.join(folder_path, filename)\n",
    "        try:\n",
    "            bank_name = filename.split('_')[0].replace('-', ' ')  # Reemplaza '-' con ' ' para el nombre del banco\n",
    "            df = pd.read_csv(file_path)\n",
    "            if df.empty:\n",
    "                raise pd.errors.EmptyDataError(f\"El archivo {filename} está vacío.\")\n",
    "            # Crea una nueva columna con el nombre del banco\n",
    "            df['File Name']=filename\n",
    "            df['Bank Name'] = df['File Name'].apply(lambda x: find_closest_bank_v2(x, banks))\n",
    "            #df['Bank Name'] = bank_name\n",
    "            dfs.append(df)\n",
    "        except pd.errors.EmptyDataError:\n",
    "            print(f\"Archivo vacío: {filename}\")\n",
    "            continue  # Salta al siguiente archivo\n",
    "\n",
    "df_concatenado = pd.concat(dfs, ignore_index=True)\n",
    "df_concatenado.info()\n",
    "df_concatenado.to_csv('data/x_reviews_full_25_04_24.csv',index=False)"
   ]
  },
  {
   "cell_type": "code",
   "execution_count": 16,
   "id": "002c75c3-0dd4-42fc-a0b1-ff7ed9b53d5d",
   "metadata": {},
   "outputs": [
    {
     "data": {
      "text/plain": [
       "Bank Name\n",
       "Citizens Bank         50\n",
       "Fifth Third Bank      50\n",
       "Bankwell Bank         50\n",
       "Webster Bank          12\n",
       "First Horizon Bank     5\n",
       "Name: count, dtype: int64"
      ]
     },
     "execution_count": 16,
     "metadata": {},
     "output_type": "execute_result"
    }
   ],
   "source": [
    "df_concatenado['Bank Name'].value_counts()"
   ]
  },
  {
   "cell_type": "markdown",
   "id": "3bc827e2-9fb2-4358-9289-3da1b1ba3400",
   "metadata": {},
   "source": [
    "## Facebook"
   ]
  },
  {
   "cell_type": "code",
   "execution_count": 17,
   "id": "e2ece288-9af2-4da7-af4f-334062fbc3d7",
   "metadata": {
    "tags": []
   },
   "outputs": [
    {
     "name": "stdout",
     "output_type": "stream",
     "text": [
      "<class 'pandas.core.frame.DataFrame'>\n",
      "RangeIndex: 55 entries, 0 to 54\n",
      "Data columns (total 16 columns):\n",
      " #   Column               Non-Null Count  Dtype  \n",
      "---  ------               --------------  -----  \n",
      " 0   query                55 non-null     object \n",
      " 1   page_url             50 non-null     object \n",
      " 2   page_name            55 non-null     object \n",
      " 3   page_rating          50 non-null     float64\n",
      " 4   page_reviews_count   50 non-null     float64\n",
      " 5   author_link          42 non-null     object \n",
      " 6   author_title         50 non-null     object \n",
      " 7   author_id            50 non-null     object \n",
      " 8   author_image         50 non-null     object \n",
      " 9   author_recommends    50 non-null     object \n",
      " 10  review_text          50 non-null     object \n",
      " 11  review_link          50 non-null     object \n",
      " 12  review_datetime_utc  50 non-null     object \n",
      " 13  review_timestamp     50 non-null     float64\n",
      " 14  review_id            55 non-null     object \n",
      " 15  Bank Name            55 non-null     object \n",
      "dtypes: float64(3), object(13)\n",
      "memory usage: 7.0+ KB\n"
     ]
    }
   ],
   "source": [
    "folder_path = 'Proyect Webster/Facebook'\n",
    "dfs = []\n",
    "\n",
    "for filename in os.listdir(folder_path):\n",
    "    if filename.endswith('.csv'):\n",
    "        file_path = os.path.join(folder_path, filename)\n",
    "        try:\n",
    "            # Extrae el nombre del banco del nombre del archivo\n",
    "            bank_name = filename.split('_')[0].replace('-', ' ')  # Reemplaza '-' con ' ' para el nombre del banco\n",
    "            df = pd.read_csv(file_path)\n",
    "            # Verifica si el archivo está vacío\n",
    "            if df.empty:\n",
    "                raise pd.errors.EmptyDataError(f\"El archivo {filename} está vacío.\")\n",
    "            # Crea una nueva columna con el nombre del banco\n",
    "            df['page_name']=filename\n",
    "            df['Bank Name'] = df['page_name'].apply(lambda x: find_closest_bank_v2(x, banks))\n",
    "            #df['Bank Name'] = bank_name\n",
    "            dfs.append(df)\n",
    "        except pd.errors.EmptyDataError:\n",
    "            print(f\"Archivo vacío: {filename}\")\n",
    "            continue  # Salta al siguiente archivo\n",
    "\n",
    "df_concatenado = pd.concat(dfs, ignore_index=True)\n",
    "df_concatenado.info()\n",
    "df_concatenado.to_csv('data/facebook_reviews_full_25_04_24.csv',index=False)"
   ]
  },
  {
   "cell_type": "code",
   "execution_count": 18,
   "id": "50a3016c-a5fe-4146-8548-745257fa0020",
   "metadata": {},
   "outputs": [
    {
     "data": {
      "text/plain": [
       "Bank Name\n",
       "Chelsea Gronto Bank    50\n",
       "Fifth Third Bank        1\n",
       "First Horizon Bank      1\n",
       "Citizens Bank           1\n",
       "Webster Bank            1\n",
       "M&T Bank                1\n",
       "Name: count, dtype: int64"
      ]
     },
     "execution_count": 18,
     "metadata": {},
     "output_type": "execute_result"
    }
   ],
   "source": [
    "df_concatenado['Bank Name'].value_counts()"
   ]
  },
  {
   "cell_type": "markdown",
   "id": "01744335-02d6-4b8e-bf54-4b04647a29fa",
   "metadata": {},
   "source": [
    "## Yelp"
   ]
  },
  {
   "cell_type": "code",
   "execution_count": 19,
   "id": "cbf13065-4e5c-4167-8299-4476cada0f6f",
   "metadata": {
    "tags": []
   },
   "outputs": [
    {
     "name": "stdout",
     "output_type": "stream",
     "text": [
      "<class 'pandas.core.frame.DataFrame'>\n",
      "RangeIndex: 85 entries, 0 to 84\n",
      "Data columns (total 24 columns):\n",
      " #   Column                    Non-Null Count  Dtype  \n",
      "---  ------                    --------------  -----  \n",
      " 0   query                     85 non-null     object \n",
      " 1   review_id                 85 non-null     object \n",
      " 2   page_name                 85 non-null     object \n",
      " 3   Bank Name                 85 non-null     object \n",
      " 4   business_name             66 non-null     object \n",
      " 5   review_rating             66 non-null     float64\n",
      " 6   review_text               66 non-null     object \n",
      " 7   review_photos             66 non-null     object \n",
      " 8   review_tags               66 non-null     object \n",
      " 9   datetime_utc              66 non-null     object \n",
      " 10  timestamp                 66 non-null     float64\n",
      " 11  author_title              66 non-null     object \n",
      " 12  author_friend_count       66 non-null     float64\n",
      " 13  author_photo_count        66 non-null     float64\n",
      " 14  author_reviews_count      66 non-null     float64\n",
      " 15  author_location           66 non-null     object \n",
      " 16  author_image              31 non-null     object \n",
      " 17  author_id                 66 non-null     object \n",
      " 18  author_url                66 non-null     object \n",
      " 19  owner_reply               0 non-null      float64\n",
      " 20  owner_reply_title         0 non-null      float64\n",
      " 21  owner_reply_datetime_utc  0 non-null      float64\n",
      " 22  owner_reply_timestamp     0 non-null      float64\n",
      " 23  next_page_cursor          0 non-null      float64\n",
      "dtypes: float64(10), object(14)\n",
      "memory usage: 16.1+ KB\n"
     ]
    }
   ],
   "source": [
    "folder_path = 'Proyect Webster/Yelp'\n",
    "dfs = []\n",
    "\n",
    "for filename in os.listdir(folder_path):\n",
    "    if filename.endswith('.csv'):\n",
    "        file_path = os.path.join(folder_path, filename)\n",
    "        try:\n",
    "            # Extrae el nombre del banco del nombre del archivo\n",
    "            bank_name = filename.split('-')[0].replace('-', ' ')  # Reemplaza '-' con ' ' para el nombre del banco\n",
    "            df = pd.read_csv(file_path)\n",
    "            # Verifica si el archivo está vacío\n",
    "            if df.empty:\n",
    "                raise pd.errors.EmptyDataError(f\"El archivo {filename} está vacío.\")\n",
    "            # Crea una nueva columna con el nombre del banco\n",
    "            df['page_name']=filename\n",
    "            df['Bank Name'] = df['page_name'].apply(lambda x: find_closest_bank_v3(x, banks))\n",
    "            #df['Bank Name'] = bank_name\n",
    "            dfs.append(df)\n",
    "        except pd.errors.EmptyDataError:\n",
    "            print(f\"Archivo vacío: {filename}\")\n",
    "            continue  # Salta al siguiente archivo\n",
    "\n",
    "df_concatenado = pd.concat(dfs, ignore_index=True)\n",
    "df_concatenado.info()\n",
    "df_concatenado.to_csv('data/yelp_reviews_full_25_04_24.csv',index=False)"
   ]
  },
  {
   "cell_type": "code",
   "execution_count": 20,
   "id": "14f5a556-8a47-4f2c-b9c2-799376403408",
   "metadata": {},
   "outputs": [
    {
     "data": {
      "text/plain": [
       "Bank Name\n",
       "M&T Bank            48\n",
       "Webster Bank        19\n",
       "Citizens Bank       15\n",
       "Fifth Third Bank     3\n",
       "Name: count, dtype: int64"
      ]
     },
     "execution_count": 20,
     "metadata": {},
     "output_type": "execute_result"
    }
   ],
   "source": [
    "df_concatenado['Bank Name'].value_counts()"
   ]
  },
  {
   "cell_type": "markdown",
   "id": "2d478556-272c-4e9f-a44d-d3259334b5ef",
   "metadata": {},
   "source": [
    "## nNEWS"
   ]
  },
  {
   "cell_type": "code",
   "execution_count": 21,
   "id": "48cdf40f-b342-4bb1-b42c-5e801640d246",
   "metadata": {},
   "outputs": [
    {
     "name": "stdout",
     "output_type": "stream",
     "text": [
      "<class 'pandas.core.frame.DataFrame'>\n",
      "RangeIndex: 50 entries, 0 to 49\n",
      "Data columns (total 24 columns):\n",
      " #   Column            Non-Null Count  Dtype \n",
      "---  ------            --------------  ----- \n",
      " 0   author            50 non-null     object\n",
      " 1   body              50 non-null     object\n",
      " 2   categories        50 non-null     object\n",
      " 3   industries        45 non-null     object\n",
      " 4   characters_count  50 non-null     int64 \n",
      " 5   clusters          47 non-null     object\n",
      " 6   entities          50 non-null     object\n",
      " 7   hashtags          50 non-null     object\n",
      " 8   id                50 non-null     int64 \n",
      " 9   keywords          50 non-null     object\n",
      " 10  language          50 non-null     object\n",
      " 11  links             50 non-null     object\n",
      " 12  paragraphs_count  50 non-null     int64 \n",
      " 13  published_at      50 non-null     object\n",
      " 14  sentences_count   50 non-null     int64 \n",
      " 15  sentiment         50 non-null     object\n",
      " 16  source            50 non-null     object\n",
      " 17  summary           50 non-null     object\n",
      " 18  title             50 non-null     object\n",
      " 19  words_count       50 non-null     int64 \n",
      " 20  license_type      50 non-null     int64 \n",
      " 21  media             18 non-null     object\n",
      " 22  page_name         50 non-null     object\n",
      " 23  Bank Name         50 non-null     object\n",
      "dtypes: int64(6), object(18)\n",
      "memory usage: 9.5+ KB\n"
     ]
    }
   ],
   "source": [
    "folder_path = 'Proyect Webster/News'\n",
    "dfs = []\n",
    "\n",
    "for filename in os.listdir(folder_path):\n",
    "    if filename.endswith('.csv'):\n",
    "        file_path = os.path.join(folder_path, filename)\n",
    "        try:\n",
    "            # Extrae el nombre del banco del nombre del archivo\n",
    "            bank_name = filename.split('-')[0].replace('-', ' ')  # Reemplaza '-' con ' ' para el nombre del banco\n",
    "            df = pd.read_csv(file_path)\n",
    "            # Verifica si el archivo está vacío\n",
    "            if df.empty:\n",
    "                raise pd.errors.EmptyDataError(f\"El archivo {filename} está vacío.\")\n",
    "            # Crea una nueva columna con el nombre del banco\n",
    "            df['page_name']=filename\n",
    "            df['Bank Name'] = df['page_name'].apply(lambda x: find_closest_bank_v3(x, banks))\n",
    "            #df['Bank Name'] = bank_name\n",
    "            dfs.append(df)\n",
    "        except pd.errors.EmptyDataError:\n",
    "            print(f\"Archivo vacío: {filename}\")\n",
    "            continue  # Salta al siguiente archivo\n",
    "\n",
    "df_concatenado = pd.concat(dfs, ignore_index=True)\n",
    "df_concatenado.info()\n",
    "df_concatenado.to_csv('data/banks_news_reviews_full_25_04_24.csv',index=False)"
   ]
  },
  {
   "cell_type": "code",
   "execution_count": 22,
   "id": "9e44291d-9fab-4c9c-a178-5b6965426fd6",
   "metadata": {},
   "outputs": [
    {
     "data": {
      "text/plain": [
       "Bank Name\n",
       "Citizens Bank         10\n",
       "Fifth Third Bank      10\n",
       "First Horizon Bank    10\n",
       "Dime Bank             10\n",
       "Webster Bank          10\n",
       "Name: count, dtype: int64"
      ]
     },
     "execution_count": 22,
     "metadata": {},
     "output_type": "execute_result"
    }
   ],
   "source": [
    "df_concatenado['Bank Name'].value_counts()"
   ]
  },
  {
   "cell_type": "code",
   "execution_count": null,
   "id": "bcc036e9-23c7-474b-becd-a4812b40037d",
   "metadata": {},
   "outputs": [],
   "source": []
  }
 ],
 "metadata": {
  "environment": {
   "kernel": "python3",
   "name": "common-cpu.m119",
   "type": "gcloud",
   "uri": "us-docker.pkg.dev/deeplearning-platform-release/gcr.io/base-cpu:m119"
  },
  "kernelspec": {
   "display_name": "Python 3 (ipykernel)",
   "language": "python",
   "name": "python3"
  },
  "language_info": {
   "codemirror_mode": {
    "name": "ipython",
    "version": 3
   },
   "file_extension": ".py",
   "mimetype": "text/x-python",
   "name": "python",
   "nbconvert_exporter": "python",
   "pygments_lexer": "ipython3",
   "version": "3.10.14"
  }
 },
 "nbformat": 4,
 "nbformat_minor": 5
}
